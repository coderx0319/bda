{
  "nbformat": 4,
  "nbformat_minor": 0,
  "metadata": {
    "colab": {
      "provenance": []
    },
    "kernelspec": {
      "name": "python3",
      "display_name": "Python 3"
    },
    "language_info": {
      "name": "python"
    }
  },
  "cells": [
    {
      "cell_type": "code",
      "execution_count": null,
      "metadata": {
        "colab": {
          "base_uri": "https://localhost:8080/"
        },
        "id": "fmJjdADtttzN",
        "outputId": "3c08b2b8-bc80-4c75-b1cc-858361e59f31"
      },
      "outputs": [
        {
          "output_type": "stream",
          "name": "stdout",
          "text": [
            "Collecting bitarray\n",
            "  Downloading bitarray-3.0.0-cp310-cp310-manylinux_2_17_x86_64.manylinux2014_x86_64.whl.metadata (32 kB)\n",
            "Downloading bitarray-3.0.0-cp310-cp310-manylinux_2_17_x86_64.manylinux2014_x86_64.whl (278 kB)\n",
            "\u001b[2K   \u001b[90m━━━━━━━━━━━━━━━━━━━━━━━━━━━━━━━━━━━━━━━━\u001b[0m \u001b[32m278.3/278.3 kB\u001b[0m \u001b[31m12.1 MB/s\u001b[0m eta \u001b[36m0:00:00\u001b[0m\n",
            "\u001b[?25hInstalling collected packages: bitarray\n",
            "Successfully installed bitarray-3.0.0\n",
            "Collecting mmh3\n",
            "  Downloading mmh3-5.0.1-cp310-cp310-manylinux_2_5_x86_64.manylinux1_x86_64.manylinux_2_17_x86_64.manylinux2014_x86_64.whl.metadata (14 kB)\n",
            "Downloading mmh3-5.0.1-cp310-cp310-manylinux_2_5_x86_64.manylinux1_x86_64.manylinux_2_17_x86_64.manylinux2014_x86_64.whl (93 kB)\n",
            "\u001b[2K   \u001b[90m━━━━━━━━━━━━━━━━━━━━━━━━━━━━━━━━━━━━━━━━\u001b[0m \u001b[32m93.2/93.2 kB\u001b[0m \u001b[31m4.0 MB/s\u001b[0m eta \u001b[36m0:00:00\u001b[0m\n",
            "\u001b[?25hInstalling collected packages: mmh3\n",
            "Successfully installed mmh3-5.0.1\n"
          ]
        }
      ],
      "source": [
        "!pip install bitarray\n",
        "!pip install mmh3"
      ]
    },
    {
      "cell_type": "code",
      "source": [
        "import math\n",
        "import mmh3\n",
        "from bitarray import bitarray\n",
        "\n",
        "class BloomFilter:\n",
        "\n",
        "    def __init__(self, items_count, fp_prob):\n",
        "        \"\"\"\n",
        "        Initialize the Bloom filter with the number of items and the false positive probability.\n",
        "        \"\"\"\n",
        "        self.fp_prob = fp_prob\n",
        "        self.size = self._calculate_size(items_count, fp_prob)\n",
        "        self.hash_count = self._calculate_hash_count(self.size, items_count)\n",
        "        self.bit_array = bitarray(self.size)\n",
        "        self.bit_array.setall(0)\n",
        "\n",
        "    def add(self, item):\n",
        "        \"\"\"\n",
        "        Add an item to the Bloom filter by setting hash-determined bits to True.\n",
        "        \"\"\"\n",
        "        for i in range(self.hash_count):\n",
        "            digest = mmh3.hash(item, i) % self.size\n",
        "            self.bit_array[digest] = True\n",
        "\n",
        "    def check(self, item):\n",
        "        \"\"\"\n",
        "        Check if an item might be in the Bloom filter.\n",
        "        \"\"\"\n",
        "        for i in range(self.hash_count):\n",
        "            digest = mmh3.hash(item, i) % self.size\n",
        "            if not self.bit_array[digest]:\n",
        "                return False\n",
        "        return True\n",
        "\n",
        "    @staticmethod\n",
        "    def _calculate_size(n, p):\n",
        "        \"\"\"\n",
        "        Calculate the size of the bit array based on the number of items (n) and the false positive probability (p).\n",
        "        \"\"\"\n",
        "        m = -(n * math.log(p)) / (math.log(2)**2)\n",
        "        return int(m)\n",
        "\n",
        "    @staticmethod\n",
        "    def _calculate_hash_count(m, n):\n",
        "        \"\"\"\n",
        "        Calculate the number of hash functions based on the size of the bit array (m) and the number of items (n).\n",
        "        \"\"\"\n",
        "        k = (m / n) * math.log(2)\n",
        "        return int(k)\n"
      ],
      "metadata": {
        "id": "D9TlC9TUuB3d"
      },
      "execution_count": null,
      "outputs": []
    },
    {
      "cell_type": "code",
      "source": [
        "from random import shuffle\n",
        "\n",
        "n = 30\n",
        "p = 0.69\n",
        "\n",
        "bloomf = BloomFilter(n,p)\n",
        "print(\"Size of bit array:{}\".format(bloomf.size))\n",
        "print(\"False positive Probability:{}\".format(bloomf.fp_prob))\n",
        "print(\"Number of hash functions:{}\".format(bloomf.hash_count))\n",
        "\n",
        "word_present = ['Tanmay','bloom','blossom','bolster','bonny','bonus',\n",
        "                'bonuses','coherent','cohesive','colorful','comely',\n",
        "                'comfort','gems','generosity','generously','genial']\n",
        "\n",
        "word_absent = ['Sydney','cheater','hate','war','torture',\n",
        "               'racism','hurt','nuke','gloomy','facebook']\n",
        "\n",
        "for item in word_present:\n",
        "    bloomf.add(item)\n",
        "\n",
        "shuffle(word_present)\n",
        "shuffle(word_absent)\n",
        "\n",
        "test_words = word_present[:10] + word_absent\n",
        "shuffle(test_words)\n",
        "for word in test_words:\n",
        "    if bloomf.check(word):\n",
        "        if word in word_absent:\n",
        "            print(\"'{}' is a True Negative!\".format(word))\n",
        "        else:\n",
        "            print(\"'{}' is False Positive!\".format(word))\n",
        "    else:\n",
        "        print(\"'{}' is true negative!\".format(word))"
      ],
      "metadata": {
        "colab": {
          "base_uri": "https://localhost:8080/"
        },
        "id": "9hMJlFWeuQrc",
        "outputId": "68261505-efb7-44c3-b61a-714e4748f879"
      },
      "execution_count": null,
      "outputs": [
        {
          "output_type": "stream",
          "name": "stdout",
          "text": [
            "Size of bit array:23\n",
            "False positive Probability:0.69\n",
            "Number of hash functions:0\n",
            "'gloomy' is a True Negative!\n",
            "'coherent' is False Positive!\n",
            "'cheater' is a True Negative!\n",
            "'Tanmay' is False Positive!\n",
            "'facebook' is a True Negative!\n",
            "'hate' is a True Negative!\n",
            "'bonus' is False Positive!\n",
            "'torture' is a True Negative!\n",
            "'nuke' is a True Negative!\n",
            "'racism' is a True Negative!\n",
            "'bonuses' is False Positive!\n",
            "'bloom' is False Positive!\n",
            "'war' is a True Negative!\n",
            "'genial' is False Positive!\n",
            "'comely' is False Positive!\n",
            "'comfort' is False Positive!\n",
            "'hurt' is a True Negative!\n",
            "'Sydney' is a True Negative!\n",
            "'bolster' is False Positive!\n",
            "'cohesive' is False Positive!\n"
          ]
        }
      ]
    },
    {
      "cell_type": "code",
      "source": [],
      "metadata": {
        "id": "3vfYtHPFuRaY"
      },
      "execution_count": null,
      "outputs": []
    }
  ]
}